{
  "nbformat": 4,
  "nbformat_minor": 0,
  "metadata": {
    "colab": {
      "provenance": [],
      "authorship_tag": "ABX9TyN5smG/uisn9iMZ/0b7j1Hc",
      "include_colab_link": true
    },
    "kernelspec": {
      "name": "python3",
      "display_name": "Python 3"
    },
    "language_info": {
      "name": "python"
    }
  },
  "cells": [
    {
      "cell_type": "markdown",
      "metadata": {
        "id": "view-in-github",
        "colab_type": "text"
      },
      "source": [
        "<a href=\"https://colab.research.google.com/github/Harshbhatt2409/Guess-The-Word-Game/blob/main/guess_the_word.ipynb\" target=\"_parent\"><img src=\"https://colab.research.google.com/assets/colab-badge.svg\" alt=\"Open In Colab\"/></a>"
      ]
    },
    {
      "cell_type": "code",
      "execution_count": null,
      "metadata": {
        "id": "NtzUAa-fKP5K"
      },
      "outputs": [],
      "source": [
        "import random"
      ]
    },
    {
      "cell_type": "code",
      "source": [
        "name = input(\"What is your name? \")\n",
        "print(\"Good Luck ! \", name)\n",
        "repeat = True\n",
        "while repeat == True:\n",
        "    fruits = ['apple', 'olive', 'tomato', 'melon', 'mango', 'lime', 'kiwi', 'grapes', 'cherry', 'banana', 'apricot', 'cucumber', 'guava', 'mulberry', 'orange', 'papaya', 'pear', 'peach', 'berry']\n",
        "    animals = ['ants', 'hippo', 'panda', 'giraffe', 'bat', 'bear', 'catfish', 'cheetah', 'lizard', 'wolf', 'zebra', 'eagle', 'cobra', 'goose', 'penguin', 'frog', 'mouse', 'flamingo', 'rabbit', 'crow', 'whale', 'lion', 'monkey', 'ostrich', 'peacock', 'racoon', 'rhinoceros', 'sheep', 'dogs', 'squirrel', 'tiger', 'vulture']\n",
        "    accessories = ['ring', 'bangle', 'lipstick', 'handbag', 'crown', 'necklace', 'watch', 'caps', 'glasses', 'wallet', 'belts', 'comb', 'pendent', 'hairpin', 'shoes', 'hats', 'jacket', 'boots', 'socks', 'stockings', 'muffler', 'gloves', 'umbrella', 'ribbon']\n",
        "    stationary = ['notebook', 'tape', 'pencil', 'eraser', 'sharpener', 'files', 'fevicol', 'inkpot', 'chalk', 'duster', 'glue', 'paper', 'cutter', 'chart', 'colours', 'stapler', 'marker', 'staples', 'clips', 'calculator', 'envelope', 'register']\n",
        "     \n",
        "    words = fruits + animals + accessories + stationary\n",
        "    word = random.choice(words)\n",
        "    print(\"Your Word has\", len(word), \"letters.\")\n",
        "    \n",
        "    print()\n",
        "    \n",
        "    if word in fruits:\n",
        "        print(\"your word is a fruit.\")\n",
        "    elif word in accessories:\n",
        "        print(\"your word is related to accessory.\")\n",
        "    elif word in stationary:\n",
        "        print(\"your word is related to stationary\")\n",
        "    elif word in animals:\n",
        "        print(\"your word is an animal\")\n",
        "    print(\"Guess the characters\")\n",
        "\n",
        "    guesses = ''\n",
        "    turns = 5\n",
        "\n",
        "    while turns > 0:\n",
        "        failed = 0\n",
        "        for char in word:\n",
        "            if char in guesses:\n",
        "                print(char)\n",
        "            else:\n",
        "                print(\"_\")\n",
        "                failed += 1\n",
        "        if failed == 0:\n",
        "            print(\"You win!!! :)\")\n",
        "\n",
        "            print(\"The word is: \",word)\n",
        "            play_again = input(\"Would you like to play again? Type Y for yes and N for No!\")\n",
        "            if play_again == 'N':\n",
        "                    repeat = False\n",
        "            break    \n",
        "        guess = input(\"guess the character:\")\n",
        "        guesses += guess\n",
        "\n",
        "        if guess not in word:\n",
        "            turns -= 1\n",
        "            print(\"Wrong :|\")\n",
        "            print(\"You have\", + turns, 'more guesses')\n",
        "\n",
        "            if turns == 0:\n",
        "                print(\"You Lose :(\")\n",
        "                print(\"The word is: \",word)\n",
        "                play_again = input(\"Would you like to play again? Type Y for yes and N for No!\")\n",
        "                if play_again == 'N':\n",
        "                    repeat = False\n"
      ],
      "metadata": {
        "colab": {
          "base_uri": "https://localhost:8080/"
        },
        "id": "tdPNsK34KeyI",
        "outputId": "ed790346-d5ed-4cb0-f454-51ba9318b0d8"
      },
      "execution_count": null,
      "outputs": [
        {
          "name": "stdout",
          "output_type": "stream",
          "text": [
            "What is your name? harsh\n",
            "Good Luck !  harsh\n",
            "Your Word has 4 letters.\n",
            "\n",
            "your word is related to accessory.\n",
            "Guess the characters\n",
            "_\n",
            "_\n",
            "_\n",
            "_\n",
            "guess the character:g\n",
            "_\n",
            "_\n",
            "_\n",
            "g\n",
            "guess the character:p\n",
            "Wrong :|\n",
            "You have 4 more guesses\n",
            "_\n",
            "_\n",
            "_\n",
            "g\n",
            "guess the character:r\n",
            "r\n",
            "_\n",
            "_\n",
            "g\n",
            "guess the character:i\n",
            "r\n",
            "i\n",
            "_\n",
            "g\n",
            "guess the character:n\n",
            "r\n",
            "i\n",
            "n\n",
            "g\n",
            "You win!!! :)\n",
            "The word is:  ring\n",
            "Would you like to play again? Type Y for yes and N for No!N\n"
          ]
        }
      ]
    }
  ]
}